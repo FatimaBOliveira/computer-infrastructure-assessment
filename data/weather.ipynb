{
 "cells": [
  {
   "cell_type": "markdown",
   "metadata": {},
   "source": [
    "# Walkthrough of tasks\n",
    "\n",
    "In this notebook I will explain the steps taken to execute the requested tasks for this module, 1 to 7.\n",
    "\n",
    "To complete this tasks I can use many different [command line applications](https://www.linfo.org/command_line_lesson_1.html), like [Cmder](https://github.com/cmderdev/cmder/wiki), [Homebrew](https://en.wikipedia.org/wiki/Homebrew_(package_manager)), [ohmyzsh](https://github.com/ohmyzsh/ohmyzsh/wiki/FAQ#what-is-oh-my-zsh-and-what-does-it-have-to-do-with-zsh), depending on their availability on the different [software systems](https://en.wikipedia.org/wiki/Operating_system), per example macOS, Linux and Microsoft Windows. \n",
    "\n",
    "I can also do this tasks virtually in the cloud, through [GitHub codespaces](https://docs.github.com/en/codespaces/overview#what-is-a-codespace), available in any machine. This cloud environment follows the [Linux shell bash commands](https://www.linfo.org/command.html). In this walkthrough I will use GitHub Codespaces to perform this tasks, as based on the lectures given in this module.\n",
    "\n",
    "As Linux explains, a [command line](https://www.linfo.org/command_line.html) is \"...an instruction given by a human to tell a computer to do something.\"\n",
    "\n",
    "Some of the codes used can differ, depending on the command line used, but many of them are the same because they come from a common origin, build initially with [Unix shell](https://en.wikipedia.org/wiki/Unix_shell#Early_shells) in the late 1960s and early 1970s. After that many [other developers](https://en.wikipedia.org/wiki/Command-line_interface#History), like the [MS-DOS](https://devblogs.microsoft.com/commandline/windows-command-line-the-evolution-of-the-windows-command-line/#microsoft-%E2%80%93-unix-market-leader-yes-seriously), are based on them, expanding the functionality of shells with new commands and modifying some features.\n",
    "\n",
    "https://www.bell-labs.com/usr/dmr/www/hist.html\n",
    "\n",
    "https://hitm.fandom.com/wiki/Unix"
   ]
  },
  {
   "cell_type": "markdown",
   "metadata": {},
   "source": [
    "**Task 1: Create Directory Structure**\n",
    "\n",
    "Using the command line, create a directory (that is, a folder) named data at the root of your repository. Inside data, create two subdirectories: timestamps and weather.\n",
    "\n",
    "Steps:\n",
    "\n",
    "- In my GitHub account, I will go to the repository \"computer-infrastructure-assessment\", and I will open a command line, bash, with Codespaces;\n",
    "- in the terminal/command line and I check if I'm in the main directory, **/workspaces/computer-infrastructure-assessment**;\n",
    "- then I use the command `mkdir` and I write the name of the folder that I want, `data`;\n",
    "- then to create two subdirectories, I can move into the new folder, using the command `cd data/`; \n",
    "- after that I can create the subdirectories, using again the command `mkdir`, one with `mkdir timestamps` and the other with `mkdir weather`;\n",
    "- also, I can do the same without moving into data directory, per example, with `mkdir data/weather`."
   ]
  },
  {
   "cell_type": "markdown",
   "metadata": {},
   "source": [
    "**Task 2: Timestamps**\n",
    "\n",
    "Navigate to the data/timestamps directory. Use the date command to output the current date and time, appending the output to a file named now.txt. Make sure to use the >> operator to append (not overwrite) the file. Repeat this step ten times, then use the more command to verify that now.txt has the expected content.\n",
    "\n",
    "Steps: \n",
    "- I will check if I'm in the directory timestamps, */workspaces/computer-infrastructure-assessment/data/timestamps*. If not I will use `cd name_of_the_directory_that_I_want_to_go_in/` or `cd ..` to go back in the directory, until I reach the timestamps;\n",
    "- to create the file, I can use `touch now.txt`;\n",
    "- to write the current date in the txt file, I use `date >> now.txt`, and I repeat the process again until I have ten entries;\n",
    "- finally to check the contents, I use `cat now.txt` or `more now.txt`."
   ]
  },
  {
   "cell_type": "markdown",
   "metadata": {},
   "source": [
    "**Task 3: Formatting Timestamps**\n",
    "\n",
    "Run the date command again, but this time format the output using YYYYmmdd_HHMMSS (e.g., 20261114_130003 for 1:00:03 PM on November 14, 2026). Refer to the date man page (using man date) for more formatting options. (Press q to exit the man page). Append the formatted output to a file named formatted.txt.\n",
    "\n",
    "Steps:\n",
    "\n",
    "- in order to get the output equal to YYYYmmdd_HHMMSS, I need to write `date +\"%Y%m%d_%H%M%S\"`, as explained in the date manual in `man date`;\n",
    "- now to append the output to the new file, I write `date +\"%Y%m%d_%H%M%S\" >> formatted.txt`."
   ]
  },
  {
   "cell_type": "markdown",
   "metadata": {},
   "source": [
    "**Task 4: Create Timestamped Files**\n",
    "\n",
    "Use the touch command to create an empty file with a name in the YYYYmmdd_HHMMSS.txt format. You can achieve this by embedding your date command in backticks ` into the touch command. You should no longer use redirection (>>) in this step.\n",
    "\n",
    "Step:\n",
    "- To create an empty txt file with the name of the current date and time, I will use the command `touch > 'date +\"%Y%m%d_%H%M%S.txt\"'`. \n",
    "\n",
    "*Note: the apostrophe symbol ( ' ) above is supposed to represent the backtick ( ` ) Please, consider the same for the next tasks.*"
   ]
  },
  {
   "cell_type": "markdown",
   "metadata": {},
   "source": [
    "**Task 5: Download Today's Weather Data**\n",
    "\n",
    "Change to the data/weather directory. Download the latest weather data for the Athenry weather station from Met Eireann using wget. Use the -O <filename> option to save the file as weather.json. The data can be found at this URL:\n",
    "https://prodapi.metweb.ie/observations/athenry/today.\n",
    "\n",
    "Steps:\n",
    "\n",
    "- To move from timestamps directory into weather, first I will go back with with `cd ..` to be in the data directory, and then I write `cd weather/`;\n",
    "- In order to create the json file, I need to write the following command:\n",
    "\n",
    "`wget -O weather.json https://prodapi.metweb.ie/observations/athenry/today`."
   ]
  },
  {
   "cell_type": "markdown",
   "metadata": {},
   "source": [
    "**Task 6: Timestamp the Data**\n",
    "\n",
    "Modify the command from Task 5 to save the downloaded file with a timestamped name in the format YYYYmmdd_HHMMSS.json.\n",
    "\n",
    "Step:\n",
    "\n",
    "- To save the file with a timestamp name, I can use the code: \n",
    "\n",
    "`wget -O 'date +\"%Y%m%d_%H%M%S.json\"' https://prodapi.metweb.ie/observations/athenry/today`"
   ]
  },
  {
   "cell_type": "markdown",
   "metadata": {},
   "source": [
    "**Task 7: Write the Script**\n",
    "\n",
    "Write a bash script called weather.sh in the root of your repository. This script should automate the process from Task 6, saving the weather data to the data/weather directory. Make the script executable and test it by running it.\n",
    "\n",
    "Steps:\n",
    "\n",
    "- I need to make sure I'm in the root of my repository, **/workspaces/computer-infrastructure-assessment**;\n",
    "- Then in the Explorer tab, I create a new file in codespaces, with the name `weather.sh`;\n",
    "- in this file I write the following lines:\n",
    "\n",
    "`#! \\bin\\bash` \n",
    "\n",
    "and\n",
    "\n",
    "`wget -O data/weather/'date +\"%Y%m%d_%H%M%S.json\"' https://prodapi.metweb.ie/observations/athenry/today`;\n",
    "\n",
    "- to add permission to run the script weather.sh, I need to use the command line: `chmod u+x .weather/sh`;\n",
    "\n",
    "- finally to run the script, I write `/bin/bash weather.sh`."
   ]
  },
  {
   "cell_type": "markdown",
   "metadata": {},
   "source": [
    "_______\n",
    "## End"
   ]
  }
 ],
 "metadata": {
  "language_info": {
   "name": "python"
  }
 },
 "nbformat": 4,
 "nbformat_minor": 2
}
