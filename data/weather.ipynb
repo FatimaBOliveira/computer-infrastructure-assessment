{
 "cells": [
  {
   "cell_type": "markdown",
   "metadata": {},
   "source": [
    "# walkthrough of tasks\n",
    "\n",
    "In this notebook I will explain the steps taken to execute the requested tasks, 1 to 7."
   ]
  },
  {
   "cell_type": "markdown",
   "metadata": {},
   "source": [
    "**Task 1: Create Directory Structure**\n",
    "\n",
    "Using the command line, create a directory (that is, a folder) named data at the root of your repository. Inside data, create two subdirectories: timestamps and weather.\n",
    "\n",
    "Steps:\n",
    "\n",
    "- In my GitHub account, I will go to the repository \"computer-infrastructure-assessment\", and I will open it with Codespaces;\n",
    "- in the Terminal/Command line and I check if I'm in the main directory, **/workspaces/computer-infrastructure-assessment**;\n",
    "- then I use the command `mkdir` and I write the name of the folder that I want, `data`;\n",
    "- then to create two subdirectories, I need to move into the new folder, using the command `cd data`; \n",
    "- after that I can create the subdirectories, using again the command `mkdir`, one with `mkdir timestamps` and the other with `mkdir weather`."
   ]
  },
  {
   "cell_type": "markdown",
   "metadata": {},
   "source": [
    "**Task 2: Timestamps**\n",
    "\n",
    "Navigate to the data/timestamps directory. Use the date command to output the current date and time, appending the output to a file named now.txt. Make sure to use the >> operator to append (not overwrite) the file. Repeat this step ten times, then use the more command to verify that now.txt has the expected content.\n",
    "\n",
    "Steps: \n",
    "- I will check if I'm in the directory timestamps, */workspaces/computer-infrastructure-assessment/data/timestamps*. If not I will use `cd name_of_the_directory_that_I_want_to_go_in` until I reach the timestamps;\n",
    "- to create the file, I can use `touch now.txt`;\n",
    "- to write the current date in the txt file, I use `date >> now.txt`, and I repeat the process again until I have ten entries;\n",
    "- finally to check the contents, I use `cat now.txt`.\n",
    "\n",
    "(https://www.redhat.com/en/blog/scripting-writing-text-file)"
   ]
  },
  {
   "cell_type": "markdown",
   "metadata": {},
   "source": [
    "**Task 3: Formatting Timestamps**\n",
    "\n",
    "Run the date command again, but this time format the output using YYYYmmdd_HHMMSS (e.g., 20261114_130003 for 1:00:03 PM on November 14, 2026). Refer to the date man page (using man date) for more formatting options. (Press q to exit the man page). Append the formatted output to a file named formatted.txt.\n",
    "\n",
    "Steps:\n",
    "\n",
    "- in order to get the output equal to YYYYmmdd_HHMMSS, I need to write `date +\"%Y%m%d_%H%M%S\"`, as explained in the date manual in `man date`;\n",
    "- now to append the output to the new file, I write `date +\"%Y%m%d_%H%M%S\" >> formatted.txt`."
   ]
  },
  {
   "cell_type": "markdown",
   "metadata": {},
   "source": [
    "**Task 4: Create Timestamped Files**\n",
    "\n",
    "Use the touch command to create an empty file with a name in the YYYYmmdd_HHMMSS.txt format. You can achieve this by embedding your date command in backticks ` into the touch command. You should no longer use redirection (>>) in this step.\n",
    "\n",
    "Step:\n",
    "- To create an empty txt file with the name of the current date and time, I will use the command `touch > date +\"%Y%m%d_%H%M%S.txt\"`, considering that date +\"...\" is between backticks `` as showed below:"
   ]
  },
  {
   "cell_type": "code",
   "execution_count": null,
   "metadata": {},
   "outputs": [],
   "source": [
    "# touch > `date +\"%Y%m%d_%H%M%S.txt\"`"
   ]
  },
  {
   "cell_type": "markdown",
   "metadata": {},
   "source": [
    "**Task 5: Download Today's Weather Data**\n",
    "\n",
    "Change to the data/weather directory. Download the latest weather data for the Athenry weather station from Met Eireann using wget. Use the -O <filename> option to save the file as weather.json. The data can be found at this URL:\n",
    "https://prodapi.metweb.ie/observations/athenry/today.\n"
   ]
  },
  {
   "cell_type": "markdown",
   "metadata": {},
   "source": [
    "**Task 6: Timestamp the Data**\n",
    "\n",
    "Modify the command from Task 5 to save the downloaded file with a timestamped name in the format YYYYmmdd_HHMMSS.json."
   ]
  },
  {
   "cell_type": "markdown",
   "metadata": {},
   "source": [
    "**Task 7: Write the Script**\n",
    "\n",
    "Write a bash script called weather.sh in the root of your repository. This script should automate the process from Task 6, saving the weather data to the data/weather directory. Make the script executable and test it by running it."
   ]
  }
 ],
 "metadata": {
  "language_info": {
   "name": "python"
  }
 },
 "nbformat": 4,
 "nbformat_minor": 2
}
